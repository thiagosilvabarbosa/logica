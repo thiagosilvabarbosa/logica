{
  "nbformat": 4,
  "nbformat_minor": 0,
  "metadata": {
    "colab": {
      "provenance": [],
      "authorship_tag": "ABX9TyN12uNtz///cWAyABN1fTez",
      "include_colab_link": true
    },
    "kernelspec": {
      "name": "python3",
      "display_name": "Python 3"
    },
    "language_info": {
      "name": "python"
    }
  },
  "cells": [
    {
      "cell_type": "markdown",
      "metadata": {
        "id": "view-in-github",
        "colab_type": "text"
      },
      "source": [
        "<a href=\"https://colab.research.google.com/github/thiagosilvabarbosa/logica/blob/main/LISTA_6_DE_EXERCICIOS_ESTRUTURA_DE_REPETI%C3%87%C3%83O.ipynb\" target=\"_parent\"><img src=\"https://colab.research.google.com/assets/colab-badge.svg\" alt=\"Open In Colab\"/></a>"
      ]
    },
    {
      "cell_type": "markdown",
      "source": [
        "# **LISTA 6  DE EXERCICIOS - ESTRUTURA DE REPETIÇÃO**\n",
        "\n",
        "> Bloco com recuo\n",
        "\n"
      ],
      "metadata": {
        "id": "nRa_K1zo61Lz"
      }
    },
    {
      "cell_type": "markdown",
      "source": [
        "Questão 1"
      ],
      "metadata": {
        "id": "hRFLOD-Q7F2s"
      }
    },
    {
      "cell_type": "code",
      "source": [
        "nome = input()\n",
        "i = 1\n",
        "while i<=100:\n",
        "    print(nome)\n",
        "    i+=1"
      ],
      "metadata": {
        "id": "PszbvEgu7Otc"
      },
      "execution_count": null,
      "outputs": []
    },
    {
      "cell_type": "markdown",
      "source": [
        "Questão 2"
      ],
      "metadata": {
        "id": "cI1HP_eQ7SDS"
      }
    },
    {
      "cell_type": "code",
      "source": [
        "nome = input()\n",
        "i = 1\n",
        "while i<=100:\n",
        "    print(f\"{i}-{nome}\")\n",
        "    i+=1"
      ],
      "metadata": {
        "id": "cpVGi_lx7UCN"
      },
      "execution_count": null,
      "outputs": []
    },
    {
      "cell_type": "markdown",
      "source": [
        "Questão 3"
      ],
      "metadata": {
        "id": "7-2evFKc8V57"
      }
    },
    {
      "cell_type": "code",
      "source": [
        "contador = 0\n",
        "while True:\n",
        "    numero = int(input(\"Informe um número:\\n(digite 0 para sair do contador) \\n\"))\n",
        "    if numero ==0:\n",
        "        break\n",
        "    else:\n",
        "        contador +=1\n",
        "print(f\"A quantidade de número informados foi: {contador}\")"
      ],
      "metadata": {
        "id": "KL3FUXOJ8YFb"
      },
      "execution_count": null,
      "outputs": []
    },
    {
      "cell_type": "markdown",
      "source": [
        "Questão 4"
      ],
      "metadata": {
        "id": "zh-4vMIg-ZcC"
      }
    },
    {
      "cell_type": "code",
      "source": [
        "soma = 0\n",
        "while True:\n",
        "    numero = int(input(\"Informe um número:\\n(digitar um número negativo encerrará o programa) \\n\"))\n",
        "    if numero <= -1 :\n",
        "        break\n",
        "    else:\n",
        "        soma += numero\n",
        "print(f\"A soma dos números informados é: {soma}!\")"
      ],
      "metadata": {
        "id": "NeXaj1dk-bdG"
      },
      "execution_count": null,
      "outputs": []
    },
    {
      "cell_type": "markdown",
      "source": [
        "Questão 5"
      ],
      "metadata": {
        "id": "lrbBoroBAtHL"
      }
    },
    {
      "cell_type": "code",
      "source": [
        "contador = 0\n",
        "soma = 0\n",
        "while True:\n",
        "    numero = float(input(\"Informe um número:\\n(digitar um número negativo encerrará o programa) \\n\"))\n",
        "    if numero <= -1 :\n",
        "        break\n",
        "    else:\n",
        "        soma += numero\n",
        "        contador += 1\n",
        "media = soma/contador\n",
        "print(f\"A media dos números informados é: {media:.2f}\")"
      ],
      "metadata": {
        "id": "CSa8qHwCAuux"
      },
      "execution_count": null,
      "outputs": []
    },
    {
      "cell_type": "markdown",
      "source": [
        "Questão 6"
      ],
      "metadata": {
        "id": "qHcXpNqACBuE"
      }
    },
    {
      "cell_type": "code",
      "source": [
        "contador = 0\n",
        "while True:\n",
        "    numero = int(input(\"Informe um número:\\n(digitar um número negativo encerrará o programa) \\n\"))\n",
        "    if numero <= -1 :\n",
        "        break\n",
        "    else:\n",
        "        if contador <= numero:\n",
        "            contador = numero\n",
        "        else:\n",
        "            contador = contador\n",
        "print(f\"O maior número informado é: {contador}\")"
      ],
      "metadata": {
        "id": "Rm2KEehpCEEQ"
      },
      "execution_count": null,
      "outputs": []
    },
    {
      "cell_type": "markdown",
      "source": [
        "Questão 7"
      ],
      "metadata": {
        "id": "55nRyCnfGZYq"
      }
    },
    {
      "cell_type": "code",
      "source": [
        "contador = 99999\n",
        "\n",
        "while True:\n",
        "    numero = int(input(\"Informe um número:\\n(digitar um número negativo encerrará o programa) \\n\"))\n",
        "    if numero <= -1 :\n",
        "        break\n",
        "    else:\n",
        "        if contador >= numero:\n",
        "            contador = numero\n",
        "        else:\n",
        "            contador = contador\n",
        "print(f\"O menor número informado é: {contador}\")"
      ],
      "metadata": {
        "id": "l7w1hacAGgY6"
      },
      "execution_count": null,
      "outputs": []
    },
    {
      "cell_type": "markdown",
      "source": [
        "Questão 8"
      ],
      "metadata": {
        "id": "I88Jx1Q9G5zl"
      }
    },
    {
      "cell_type": "code",
      "source": [
        "x = int(input())\n",
        "print(\"Tabuada:\")\n",
        "for i in range(1,11,1):\n",
        "    tabuada = x * i\n",
        "    print(f\"{x}*{i}={tabuada}\")"
      ],
      "metadata": {
        "id": "-pbm3jTbG7sn"
      },
      "execution_count": null,
      "outputs": []
    },
    {
      "cell_type": "markdown",
      "source": [
        "Questão 9"
      ],
      "metadata": {
        "id": "LY3nzOecI5Ty"
      }
    },
    {
      "cell_type": "code",
      "source": [
        "altura_ana = 1.50\n",
        "crescimento_ana = 0.02 #crescimento anual\n",
        "altura_lucas = 1.15\n",
        "crescimento_lucas = 0.04 #crescimento anual\n",
        "ano = 0\n",
        "while True:\n",
        "    altura_ana += crescimento_ana\n",
        "    altura_lucas += crescimento_lucas\n",
        "    if altura_lucas>altura_ana:\n",
        "        break\n",
        "    else:\n",
        "        ano+=1\n",
        "print(f\"Lucas demorou {ano} anos para ficar mais alto que Ana\")"
      ],
      "metadata": {
        "id": "DmAMyt9qI7Hx"
      },
      "execution_count": null,
      "outputs": []
    },
    {
      "cell_type": "markdown",
      "source": [
        "Questão 10"
      ],
      "metadata": {
        "id": "mpMOOhsRLm--"
      }
    },
    {
      "cell_type": "code",
      "source": [
        "num_digitados = 0\n",
        "while True:\n",
        "    numero = int(input())\n",
        "    if numero == 0:\n",
        "        break\n",
        "    else:\n",
        "        if numero >=100 and numero<=200:\n",
        "            num_digitados += 1\n",
        "        else:\n",
        "            continue\n",
        "print(f\"A quantidade de números entre 100 e 200 digitados foi de {num_digitados}\")"
      ],
      "metadata": {
        "id": "IVGqANXTLp1C"
      },
      "execution_count": null,
      "outputs": []
    },
    {
      "cell_type": "markdown",
      "source": [
        "Questão 11"
      ],
      "metadata": {
        "id": "VP7tyi1DYmNf"
      }
    },
    {
      "cell_type": "code",
      "source": [
        "contador = 0\n",
        "while True:\n",
        "    numero = int(input())\n",
        "    if numero == 0:\n",
        "        break\n",
        "    else:\n",
        "        if numero%3==0:\n",
        "            contador += 1\n",
        "        else:\n",
        "            continue\n",
        "print(f\"A quantidade de número divisiveis por 3 é: {contador}\")"
      ],
      "metadata": {
        "id": "EbwAnZm-YoGt"
      },
      "execution_count": null,
      "outputs": []
    },
    {
      "cell_type": "markdown",
      "source": [
        "Questão 12"
      ],
      "metadata": {
        "id": "n_orrnjwZznY"
      }
    },
    {
      "cell_type": "code",
      "source": [
        "while True:\n",
        "    num1 = int(input())\n",
        "    num2 = int(input())\n",
        "    if num2>num1 and num1>=3 and num2<=12:\n",
        "        for i in range(num1,num2+1,1):\n",
        "            if i%2==0:\n",
        "                print(i, end=\" \")\n",
        "            else:\n",
        "                continue\n",
        "        \n",
        "    else:\n",
        "        break"
      ],
      "metadata": {
        "id": "KJqQqeycZ1ZE"
      },
      "execution_count": null,
      "outputs": []
    },
    {
      "cell_type": "markdown",
      "source": [
        "Questão 13"
      ],
      "metadata": {
        "id": "y12jZMKxcceV"
      }
    },
    {
      "cell_type": "code",
      "source": [
        "print(\"Tabuada:\")\n",
        "for j in range(1,5+1,1):\n",
        "    for i in range(1,10+1,1):\n",
        "        tabuada = j * i\n",
        "        print(f\"{j}*{i}={tabuada}\")"
      ],
      "metadata": {
        "id": "b8xh3PHlceHG"
      },
      "execution_count": null,
      "outputs": []
    },
    {
      "cell_type": "markdown",
      "source": [
        "Questão 14\n",
        "\n"
      ],
      "metadata": {
        "id": "lP35ganWdVus"
      }
    },
    {
      "cell_type": "code",
      "source": [
        "contador = 0\n",
        "soma=0\n",
        "produto=1\n",
        "maior=0\n",
        "menor=99999\n",
        "while True:\n",
        "    numero = int(input())\n",
        "    if numero <= -1:\n",
        "        break\n",
        "    else:\n",
        "        soma += numero #soma dos numeros digitados\n",
        "        contador += 1 #quantidade de numeros digitados\n",
        "        produto *= numero\n",
        "        if maior < numero:\n",
        "            maior = numero\n",
        "        if menor > numero:\n",
        "            menor = numero\n",
        "media = soma/contador#media dos numeros\n",
        "'''Foram digitados <x> números e o resultado foi:\n",
        "Soma:\n",
        "Média:\n",
        "Produto:\n",
        "Menor:\n",
        "Maior:'''\n",
        "print(f\"Foram Digitados {contador} números e o resultados foi:\\nSoma:{soma}\\nMédia:{media:.1f}\\nProduto:{produto}\\nMenor:{menor}\\nMaior:{maior}\")"
      ],
      "metadata": {
        "id": "CTRnkG7ldVVt"
      },
      "execution_count": null,
      "outputs": []
    }
  ]
}